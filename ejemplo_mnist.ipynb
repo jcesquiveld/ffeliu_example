{
 "cells": [
  {
   "cell_type": "markdown",
   "metadata": {},
   "source": [
    "<h1>Ejemplo ML con varios algoritmos</h1>\n",
    "\n",
    "El presente notebook muestra un ejemplo de resolución de un mismo problema con varios algoritmos de machine learning. Con él se pretende ilustrar un poco la diferencia entre algoritmo y framework ML. El problema escogido es el problema de clasificación de dígitos MNIST, que es una especie de \"Hello world\" dentro del mundo del machine learning. Los algoritmos y frameworks utilizados serán:\n",
    "\n",
    "<table style='{align:left;}'>\n",
    "<tr><th>Algoritmo</th><th>Framework</th></tr>\n",
    "<tr><td>Random Forests</td><td>Scikit-Learn</td></tr>\n",
    "<tr><td>Convolutional Neural Network</td><td>Keras sobre Tensorflow</td></tr>\n",
    "</table>\n",
    "\n",
    "En primer lugar, vamos a importar una serie de paquetes comunes."
   ]
  },
  {
   "cell_type": "code",
   "execution_count": 1,
   "metadata": {},
   "outputs": [
    {
     "name": "stderr",
     "output_type": "stream",
     "text": [
      "Using TensorFlow backend.\n"
     ]
    }
   ],
   "source": [
    "import numpy as np\n",
    "import matplotlib.pyplot as plt\n",
    "%matplotlib inline\n",
    "\n",
    "# Importamos el dataset MNIST de Keras, que usaremos para todos los algoritmos\n",
    "\n",
    "from keras.datasets import mnist   # La mayoría de los frameworks incluyen el dataset MNIST"
   ]
  },
  {
   "cell_type": "code",
   "execution_count": 2,
   "metadata": {},
   "outputs": [
    {
     "name": "stdout",
     "output_type": "stream",
     "text": [
      "(60000, 28, 28)\n",
      "(10000, 28, 28)\n"
     ]
    }
   ],
   "source": [
    "# Cargamos los datos divididos en train y test data\n",
    "\n",
    "(X_train, y_train), (X_test, y_test) = mnist.load_data()\n",
    "print(X_train.shape)\n",
    "print(X_test.shape)"
   ]
  },
  {
   "cell_type": "code",
   "execution_count": 3,
   "metadata": {},
   "outputs": [
    {
     "data": {
      "image/png": "[encoded data removed]",
      "text/plain": [
       "<matplotlib.figure.Figure at 0xf9fb128>"
      ]
     },
     "metadata": {},
     "output_type": "display_data"
    }
   ],
   "source": [
    "# Echemos un vistazo a unas cuantas imágenes\n",
    "\n",
    "plt.subplots(3,8, figsize=(12,5))\n",
    "for i in range(24):\n",
    "    plt.subplot(3,8,i+1)\n",
    "    plt.imshow(X_train[i], cmap='gray', interpolation=None)\n",
    "    plt.xticks([])\n",
    "    plt.yticks([])\n",
    "    plt.title('Class {}'.format(y_train[i]))"
   ]
  },
  {
   "cell_type": "markdown",
   "metadata": {},
   "source": [
    "<h2>Random Forests</h2>"
   ]
  },
  {
   "cell_type": "code",
   "execution_count": 4,
   "metadata": {
    "collapsed": true
   },
   "outputs": [],
   "source": [
    "from sklearn.ensemble import RandomForestClassifier\n",
    "from sklearn.metrics import accuracy_score"
   ]
  },
  {
   "cell_type": "code",
   "execution_count": 5,
   "metadata": {
    "collapsed": true
   },
   "outputs": [],
   "source": [
    "# El RF espera los arrays de dos dimensiones\n",
    "X_train = X_train.reshape(X_train.shape[0], 28*28)\n",
    "X_test = X_test.reshape(X_test.shape[0], 28*28)"
   ]
  },
  {
   "cell_type": "code",
   "execution_count": 7,
   "metadata": {},
   "outputs": [
    {
     "name": "stdout",
     "output_type": "stream",
     "text": [
      "Wall time: 52.1 s\n"
     ]
    }
   ],
   "source": [
    "%%time\n",
    "# Creamos un RF con 100 estimadores y lo entrenamos\n",
    "rf = RandomForestClassifier(n_estimators=100)\n",
    "rf.fit(X_train, y_train)"
   ]
  },
  {
   "cell_type": "code",
   "execution_count": 8,
   "metadata": {},
   "outputs": [
    {
     "name": "stdout",
     "output_type": "stream",
     "text": [
      "0.9695\n"
     ]
    }
   ],
   "source": [
    "# Vamos a evaluar la precisión del algoritmo\n",
    "y_pred = rf.predict(X_test)\n",
    "print(accuracy_score(y_pred, y_test))"
   ]
  },
  {
   "cell_type": "markdown",
   "metadata": {},
   "source": [
    "<h2>Convolutional NN</h2>"
   ]
  },
  {
   "cell_type": "code",
   "execution_count": 9,
   "metadata": {
    "collapsed": true
   },
   "outputs": [],
   "source": [
    "# Imports de módulos Keras\n",
    "\n",
    "from keras.utils import to_categorical\n",
    "from keras.models import Sequential\n",
    "from keras.layers.convolutional import Convolution2D, MaxPooling2D\n",
    "from keras.layers import Activation, Dropout, Flatten, Dense"
   ]
  },
  {
   "cell_type": "code",
   "execution_count": 10,
   "metadata": {
    "collapsed": true
   },
   "outputs": [],
   "source": [
    "# Primero tenemos que hacer un preprocesado previo de las imágenes\n",
    "\n",
    "# Volvemos a cargar los datos para procesarlos para la CNN\n",
    "(X_train, y_train), (X_test, y_test) = mnist.load_data()\n",
    "\n",
    "# Cambiar el tamaño al esperado por la CNN\n",
    "X_train = X_train.reshape(X_train.shape[0], 28, 28, 1).astype('float32')\n",
    "X_test = X_test.reshape(X_test.shape[0], 28, 28, 1).astype('float32')\n",
    "\n",
    "# Normalizar (escala de grises)\n",
    "X_train /= 255\n",
    "X_test /= 255\n",
    "\n",
    "# OHE (One Hot Encoding) de las etiquetas\n",
    "y_train = to_categorical(y_train, 10)\n",
    "y_test = to_categorical(y_test, 10)"
   ]
  },
  {
   "cell_type": "code",
   "execution_count": 11,
   "metadata": {
    "collapsed": true
   },
   "outputs": [],
   "source": [
    "def build_model():\n",
    "    model = Sequential()\n",
    "    model.add(Convolution2D(32, kernel_size=(3,3), input_shape=(28, 28, 1)))\n",
    "    model.add(Activation('relu'))\n",
    "    model.add(MaxPooling2D(pool_size=(2,2)))\n",
    "    model.add(Dropout(0.25))\n",
    "    model.add(Flatten())\n",
    "    model.add(Dense(128))\n",
    "    model.add(Activation('relu'))\n",
    "    model.add(Dropout(0.5))\n",
    "    model.add(Dense(10))\n",
    "    model.add(Activation('softmax'))\n",
    "    model.compile(loss='categorical_crossentropy', optimizer='adam', metrics=['accuracy'])\n",
    "    return model"
   ]
  },
  {
   "cell_type": "code",
   "execution_count": 12,
   "metadata": {},
   "outputs": [
    {
     "name": "stdout",
     "output_type": "stream",
     "text": [
      "Train on 60000 samples, validate on 10000 samples\n",
      "Epoch 1/10\n",
      "60000/60000 [==============================] - 39s - loss: 0.3345 - acc: 0.9005 - val_loss: 0.0851 - val_acc: 0.9741\n",
      "Epoch 2/10\n",
      "60000/60000 [==============================] - 39s - loss: 0.1246 - acc: 0.9632 - val_loss: 0.0606 - val_acc: 0.9801\n",
      "Epoch 3/10\n",
      "60000/60000 [==============================] - 38s - loss: 0.0943 - acc: 0.9716 - val_loss: 0.0498 - val_acc: 0.9838\n",
      "Epoch 4/10\n",
      "60000/60000 [==============================] - 38s - loss: 0.0787 - acc: 0.9758 - val_loss: 0.0471 - val_acc: 0.9834\n",
      "Epoch 5/10\n",
      "60000/60000 [==============================] - 38s - loss: 0.0698 - acc: 0.9786 - val_loss: 0.0405 - val_acc: 0.9862\n",
      "Epoch 6/10\n",
      "60000/60000 [==============================] - 38s - loss: 0.0614 - acc: 0.9813 - val_loss: 0.0386 - val_acc: 0.9863\n",
      "Epoch 7/10\n",
      "60000/60000 [==============================] - 39s - loss: 0.0564 - acc: 0.9822 - val_loss: 0.0352 - val_acc: 0.9877\n",
      "Epoch 8/10\n",
      "60000/60000 [==============================] - 40s - loss: 0.0533 - acc: 0.9828 - val_loss: 0.0353 - val_acc: 0.9878\n",
      "Epoch 9/10\n",
      "60000/60000 [==============================] - 38s - loss: 0.0458 - acc: 0.9854 - val_loss: 0.0341 - val_acc: 0.9880\n",
      "Epoch 10/10\n",
      "60000/60000 [==============================] - 40s - loss: 0.0456 - acc: 0.9857 - val_loss: 0.0345 - val_acc: 0.9878\n"
     ]
    },
    {
     "data": {
      "text/plain": [
       "<keras.callbacks.History at 0xfd7ada0>"
      ]
     },
     "execution_count": 12,
     "metadata": {},
     "output_type": "execute_result"
    }
   ],
   "source": [
    "# Creamos y entrenamos la red\n",
    "\n",
    "model = build_model()\n",
    "model.fit(X_train, y_train, batch_size=128, epochs=10, verbose=1, validation_data=(X_test, y_test))"
   ]
  },
  {
   "cell_type": "code",
   "execution_count": 13,
   "metadata": {
    "collapsed": true
   },
   "outputs": [],
   "source": [
    "# Vamos a probar el algoritmo una vez entrenado con imágenes del test set\n",
    "\n",
    "_, (test, _) = mnist.load_data()"
   ]
  },
  {
   "cell_type": "code",
   "execution_count": 24,
   "metadata": {},
   "outputs": [
    {
     "name": "stdout",
     "output_type": "stream",
     "text": [
      "El modelo predice que es un 8\n"
     ]
    },
    {
     "data": {
      "image/png": "[encoded data removed]",
      "text/plain": [
       "<matplotlib.figure.Figure at 0xffa3c88>"
      ]
     },
     "metadata": {},
     "output_type": "display_data"
    }
   ],
   "source": [
    "n = 319\n",
    "\n",
    "plt.imshow(test[n], cmap='gray', interpolation=None)\n",
    "sample = test[n].reshape(1, 28, 28, 1)\n",
    "predict = model.predict(sample)\n",
    "print('El modelo predice que es un {}'.format(predict.argmax()))"
   ]
  }
 ],
 "metadata": {
  "kernelspec": {
   "display_name": "Python 3",
   "language": "python",
   "name": "python3"
  },
  "language_info": {
   "codemirror_mode": {
    "name": "ipython",
    "version": 3
   },
   "file_extension": ".py",
   "mimetype": "text/x-python",
   "name": "python",
   "nbconvert_exporter": "python",
   "pygments_lexer": "ipython3",
   "version": "3.6.3"
  }
 },
 "nbformat": 4,
 "nbformat_minor": 2
}
